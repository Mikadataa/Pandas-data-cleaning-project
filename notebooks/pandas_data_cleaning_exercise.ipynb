{
 "cells": [
  {
   "cell_type": "markdown",
   "id": "3a10df51",
   "metadata": {},
   "source": [
    "# 🧹 Data Cleaning Exercise (Single Notebook)\n",
    "\n",
    "This notebook **generates a messy CSV dataset** and then **cleans it** step by step using **pandas** and **NumPy**.\n",
    "\n",
    "It saves:\n",
    "- `data/messy_rainfall.csv` (raw, messy data)\n",
    "- `results/cleaned_rainfall.csv` (clean output)\n",
    "- `results/summary.txt` (basic stats)\n",
    "- `results/quick_plot.png` (sanity chart)\n"
   ]
  },
  {
   "cell_type": "code",
   "execution_count": 10,
   "id": "58b7eda3",
   "metadata": {},
   "outputs": [
    {
     "name": "stdout",
     "output_type": "stream",
     "text": [
      "Project root: D:\\DS Projects\\pandas-data-cleaning-project\n",
      "Data dir: D:\\DS Projects\\pandas-data-cleaning-project\\data\n",
      "Results dir: D:\\DS Projects\\pandas-data-cleaning-project\\results\n"
     ]
    }
   ],
   "source": [
    "# === Imports & Setup ===\n",
    "import pandas as pd\n",
    "import numpy as np\n",
    "from pathlib import Path\n",
    "import matplotlib.pyplot as plt\n",
    "\n",
    "# Use the folder where THIS notebook lives as project root\n",
    "PROJECT_ROOT = Path().resolve().parent\n",
    "DATA_DIR = PROJECT_ROOT / \"data\"\n",
    "RESULTS_DIR = PROJECT_ROOT / \"results\"\n",
    "DATA_DIR.mkdir(exist_ok=True)\n",
    "RESULTS_DIR.mkdir(exist_ok=True)\n",
    "\n",
    "print(\"Project root:\", PROJECT_ROOT)\n",
    "print(\"Data dir:\", DATA_DIR)\n",
    "print(\"Results dir:\", RESULTS_DIR)"
   ]
  },
  {
   "cell_type": "markdown",
   "id": "91f125bc",
   "metadata": {},
   "source": [
    "## 1) Generate a messy CSV\n",
    "\n",
    "We intentionally create common issues:\n",
    "- Mixed date formats\n",
    "- Numeric values as text (spaces/commas)\n",
    "- Missing values\n",
    "- Duplicates\n",
    "- A junk row\n"
   ]
  },
  {
   "cell_type": "code",
   "execution_count": 11,
   "id": "391b774b",
   "metadata": {},
   "outputs": [
    {
     "name": "stdout",
     "output_type": "stream",
     "text": [
      "✅ Wrote messy dataset to: D:\\DS Projects\\pandas-data-cleaning-project\\data\\messy_rainfall.csv\n"
     ]
    },
    {
     "data": {
      "text/html": [
       "<div>\n",
       "<style scoped>\n",
       "    .dataframe tbody tr th:only-of-type {\n",
       "        vertical-align: middle;\n",
       "    }\n",
       "\n",
       "    .dataframe tbody tr th {\n",
       "        vertical-align: top;\n",
       "    }\n",
       "\n",
       "    .dataframe thead th {\n",
       "        text-align: right;\n",
       "    }\n",
       "</style>\n",
       "<table border=\"1\" class=\"dataframe\">\n",
       "  <thead>\n",
       "    <tr style=\"text-align: right;\">\n",
       "      <th></th>\n",
       "      <th>Date</th>\n",
       "      <th>Rainfall(mm)</th>\n",
       "      <th>Region</th>\n",
       "      <th>Note</th>\n",
       "    </tr>\n",
       "  </thead>\n",
       "  <tbody>\n",
       "    <tr>\n",
       "      <th>0</th>\n",
       "      <td>2024-01-01</td>\n",
       "      <td>12.5</td>\n",
       "      <td>North</td>\n",
       "      <td>ok</td>\n",
       "    </tr>\n",
       "    <tr>\n",
       "      <th>1</th>\n",
       "      <td>01/02/2024</td>\n",
       "      <td>NaN</td>\n",
       "      <td>south</td>\n",
       "      <td>error</td>\n",
       "    </tr>\n",
       "    <tr>\n",
       "      <th>2</th>\n",
       "      <td>2024/01/03</td>\n",
       "      <td>15.0</td>\n",
       "      <td>EAST</td>\n",
       "      <td>ok</td>\n",
       "    </tr>\n",
       "    <tr>\n",
       "      <th>3</th>\n",
       "      <td></td>\n",
       "      <td></td>\n",
       "      <td>West</td>\n",
       "      <td>missing</td>\n",
       "    </tr>\n",
       "    <tr>\n",
       "      <th>4</th>\n",
       "      <td>2024-01-05</td>\n",
       "      <td>20,3</td>\n",
       "      <td>north</td>\n",
       "      <td>ok</td>\n",
       "    </tr>\n",
       "    <tr>\n",
       "      <th>5</th>\n",
       "      <td>junk_row</td>\n",
       "      <td>junk_value</td>\n",
       "      <td>??</td>\n",
       "      <td>not needed</td>\n",
       "    </tr>\n",
       "    <tr>\n",
       "      <th>6</th>\n",
       "      <td>2024-01-05</td>\n",
       "      <td>20,3</td>\n",
       "      <td>north</td>\n",
       "      <td>ok</td>\n",
       "    </tr>\n",
       "  </tbody>\n",
       "</table>\n",
       "</div>"
      ],
      "text/plain": [
       "         Date Rainfall(mm) Region        Note\n",
       "0  2024-01-01        12.5   North          ok\n",
       "1  01/02/2024          NaN  south       error\n",
       "2  2024/01/03         15.0   EAST          ok\n",
       "3                            West     missing\n",
       "4  2024-01-05         20,3  north          ok\n",
       "5    junk_row   junk_value     ??  not needed\n",
       "6  2024-01-05         20,3  north          ok"
      ]
     },
     "execution_count": 11,
     "metadata": {},
     "output_type": "execute_result"
    }
   ],
   "source": [
    "# === Generate messy data ===\n",
    "rows = [\n",
    "    {\"Date\": \"2024-01-01\", \"Rainfall(mm)\": \" 12.5 \", \"Region\": \"North\", \"Note\": \"ok\"},\n",
    "    {\"Date\": \"01/02/2024\", \"Rainfall(mm)\": \"NaN\", \"Region\": \"south\", \"Note\": \"error\"},\n",
    "    {\"Date\": \"2024/01/03\", \"Rainfall(mm)\": \"15.0\", \"Region\": \"EAST\", \"Note\": \"ok\"},\n",
    "    {\"Date\": \"\", \"Rainfall(mm)\": \"\", \"Region\": \"West\", \"Note\": \"missing\"},\n",
    "    {\"Date\": \"2024-01-05\", \"Rainfall(mm)\": \"20,3\", \"Region\": \"north\", \"Note\": \"ok\"},  # comma decimal\n",
    "    {\"Date\": \"junk_row\", \"Rainfall(mm)\": \"junk_value\", \"Region\": \"??\", \"Note\": \"not needed\"},\n",
    "    {\"Date\": \"2024-01-05\", \"Rainfall(mm)\": \"20,3\", \"Region\": \"north\", \"Note\": \"ok\"},  # duplicate\n",
    "]\n",
    "raw_df = pd.DataFrame(rows)\n",
    "\n",
    "raw_path = DATA_DIR / \"messy_rainfall.csv\"\n",
    "raw_df.to_csv(raw_path, index=False)\n",
    "print(f\"✅ Wrote messy dataset to: {raw_path}\")\n",
    "raw_df"
   ]
  },
  {
   "cell_type": "markdown",
   "id": "7a6d3835",
   "metadata": {},
   "source": [
    "## 2) Load & Quick Diagnostics\n",
    "\n",
    "We read the CSV from `data/` and check the current working directory, files present, and head.\n"
   ]
  },
  {
   "cell_type": "code",
   "execution_count": 12,
   "id": "9912539c",
   "metadata": {},
   "outputs": [
    {
     "name": "stdout",
     "output_type": "stream",
     "text": [
      "CWD: D:\\DS Projects\\pandas-data-cleaning-project\\notebooks\n",
      "Files in data/: [WindowsPath('D:/DS Projects/pandas-data-cleaning-project/data/messy_rainfall.csv')]\n",
      "Shape: (7, 4)\n"
     ]
    },
    {
     "data": {
      "text/html": [
       "<div>\n",
       "<style scoped>\n",
       "    .dataframe tbody tr th:only-of-type {\n",
       "        vertical-align: middle;\n",
       "    }\n",
       "\n",
       "    .dataframe tbody tr th {\n",
       "        vertical-align: top;\n",
       "    }\n",
       "\n",
       "    .dataframe thead th {\n",
       "        text-align: right;\n",
       "    }\n",
       "</style>\n",
       "<table border=\"1\" class=\"dataframe\">\n",
       "  <thead>\n",
       "    <tr style=\"text-align: right;\">\n",
       "      <th></th>\n",
       "      <th>Date</th>\n",
       "      <th>Rainfall(mm)</th>\n",
       "      <th>Region</th>\n",
       "      <th>Note</th>\n",
       "    </tr>\n",
       "  </thead>\n",
       "  <tbody>\n",
       "    <tr>\n",
       "      <th>0</th>\n",
       "      <td>2024-01-01</td>\n",
       "      <td>12.5</td>\n",
       "      <td>North</td>\n",
       "      <td>ok</td>\n",
       "    </tr>\n",
       "    <tr>\n",
       "      <th>1</th>\n",
       "      <td>01/02/2024</td>\n",
       "      <td>NaN</td>\n",
       "      <td>south</td>\n",
       "      <td>error</td>\n",
       "    </tr>\n",
       "    <tr>\n",
       "      <th>2</th>\n",
       "      <td>2024/01/03</td>\n",
       "      <td>15.0</td>\n",
       "      <td>EAST</td>\n",
       "      <td>ok</td>\n",
       "    </tr>\n",
       "    <tr>\n",
       "      <th>3</th>\n",
       "      <td>NaN</td>\n",
       "      <td>NaN</td>\n",
       "      <td>West</td>\n",
       "      <td>missing</td>\n",
       "    </tr>\n",
       "    <tr>\n",
       "      <th>4</th>\n",
       "      <td>2024-01-05</td>\n",
       "      <td>20,3</td>\n",
       "      <td>north</td>\n",
       "      <td>ok</td>\n",
       "    </tr>\n",
       "  </tbody>\n",
       "</table>\n",
       "</div>"
      ],
      "text/plain": [
       "         Date Rainfall(mm) Region     Note\n",
       "0  2024-01-01        12.5   North       ok\n",
       "1  01/02/2024          NaN  south    error\n",
       "2  2024/01/03         15.0   EAST       ok\n",
       "3         NaN          NaN   West  missing\n",
       "4  2024-01-05         20,3  north       ok"
      ]
     },
     "execution_count": 12,
     "metadata": {},
     "output_type": "execute_result"
    }
   ],
   "source": [
    "# === Load & diagnose ===\n",
    "print(\"CWD:\", Path().resolve())\n",
    "print(\"Files in data/:\", list(DATA_DIR.glob(\"*\")))\n",
    "\n",
    "df = pd.read_csv(DATA_DIR / \"messy_rainfall.csv\")\n",
    "print(\"Shape:\", df.shape)\n",
    "df.head()"
   ]
  },
  {
   "cell_type": "markdown",
   "id": "70f1ef4f",
   "metadata": {},
   "source": [
    "## 3) Clean text columns\n",
    "\n",
    "- Trim whitespace\n",
    "- Standardize region casing\n"
   ]
  },
  {
   "cell_type": "code",
   "execution_count": 13,
   "id": "7004e051",
   "metadata": {},
   "outputs": [
    {
     "data": {
      "text/html": [
       "<div>\n",
       "<style scoped>\n",
       "    .dataframe tbody tr th:only-of-type {\n",
       "        vertical-align: middle;\n",
       "    }\n",
       "\n",
       "    .dataframe tbody tr th {\n",
       "        vertical-align: top;\n",
       "    }\n",
       "\n",
       "    .dataframe thead th {\n",
       "        text-align: right;\n",
       "    }\n",
       "</style>\n",
       "<table border=\"1\" class=\"dataframe\">\n",
       "  <thead>\n",
       "    <tr style=\"text-align: right;\">\n",
       "      <th></th>\n",
       "      <th>Date</th>\n",
       "      <th>Rainfall(mm)</th>\n",
       "      <th>Region</th>\n",
       "      <th>Note</th>\n",
       "    </tr>\n",
       "  </thead>\n",
       "  <tbody>\n",
       "    <tr>\n",
       "      <th>0</th>\n",
       "      <td>2024-01-01</td>\n",
       "      <td>12.5</td>\n",
       "      <td>North</td>\n",
       "      <td>ok</td>\n",
       "    </tr>\n",
       "    <tr>\n",
       "      <th>1</th>\n",
       "      <td>01/02/2024</td>\n",
       "      <td>nan</td>\n",
       "      <td>South</td>\n",
       "      <td>error</td>\n",
       "    </tr>\n",
       "    <tr>\n",
       "      <th>2</th>\n",
       "      <td>2024/01/03</td>\n",
       "      <td>15.0</td>\n",
       "      <td>East</td>\n",
       "      <td>ok</td>\n",
       "    </tr>\n",
       "    <tr>\n",
       "      <th>3</th>\n",
       "      <td>nan</td>\n",
       "      <td>nan</td>\n",
       "      <td>West</td>\n",
       "      <td>missing</td>\n",
       "    </tr>\n",
       "    <tr>\n",
       "      <th>4</th>\n",
       "      <td>2024-01-05</td>\n",
       "      <td>20,3</td>\n",
       "      <td>North</td>\n",
       "      <td>ok</td>\n",
       "    </tr>\n",
       "  </tbody>\n",
       "</table>\n",
       "</div>"
      ],
      "text/plain": [
       "         Date Rainfall(mm) Region     Note\n",
       "0  2024-01-01         12.5  North       ok\n",
       "1  01/02/2024          nan  South    error\n",
       "2  2024/01/03         15.0   East       ok\n",
       "3         nan          nan   West  missing\n",
       "4  2024-01-05         20,3  North       ok"
      ]
     },
     "execution_count": 13,
     "metadata": {},
     "output_type": "execute_result"
    }
   ],
   "source": [
    "# === Clean text columns ===\n",
    "obj_cols = df.select_dtypes(include=\"object\").columns\n",
    "for c in obj_cols:\n",
    "    df[c] = df[c].astype(str).str.strip()\n",
    "\n",
    "# Title-case for Region (north -> North)\n",
    "if \"Region\" in df.columns:\n",
    "    df[\"Region\"] = df[\"Region\"].str.title()\n",
    "\n",
    "df.head()"
   ]
  },
  {
   "cell_type": "markdown",
   "id": "d37eb85d",
   "metadata": {},
   "source": [
    "## 4) Parse dates safely\n",
    "\n",
    "- Convert the `Date` column using `errors='coerce'` (invalid dates → NaT)\n",
    "- Drop rows with invalid dates\n"
   ]
  },
  {
   "cell_type": "code",
   "execution_count": 14,
   "id": "4ce0475d",
   "metadata": {},
   "outputs": [
    {
     "name": "stdout",
     "output_type": "stream",
     "text": [
      "Dropped 4 rows with invalid dates.\n"
     ]
    },
    {
     "data": {
      "text/html": [
       "<div>\n",
       "<style scoped>\n",
       "    .dataframe tbody tr th:only-of-type {\n",
       "        vertical-align: middle;\n",
       "    }\n",
       "\n",
       "    .dataframe tbody tr th {\n",
       "        vertical-align: top;\n",
       "    }\n",
       "\n",
       "    .dataframe thead th {\n",
       "        text-align: right;\n",
       "    }\n",
       "</style>\n",
       "<table border=\"1\" class=\"dataframe\">\n",
       "  <thead>\n",
       "    <tr style=\"text-align: right;\">\n",
       "      <th></th>\n",
       "      <th>Date</th>\n",
       "      <th>Date_parsed</th>\n",
       "    </tr>\n",
       "  </thead>\n",
       "  <tbody>\n",
       "    <tr>\n",
       "      <th>0</th>\n",
       "      <td>2024-01-01</td>\n",
       "      <td>2024-01-01</td>\n",
       "    </tr>\n",
       "    <tr>\n",
       "      <th>4</th>\n",
       "      <td>2024-01-05</td>\n",
       "      <td>2024-01-05</td>\n",
       "    </tr>\n",
       "    <tr>\n",
       "      <th>6</th>\n",
       "      <td>2024-01-05</td>\n",
       "      <td>2024-01-05</td>\n",
       "    </tr>\n",
       "  </tbody>\n",
       "</table>\n",
       "</div>"
      ],
      "text/plain": [
       "         Date Date_parsed\n",
       "0  2024-01-01  2024-01-01\n",
       "4  2024-01-05  2024-01-05\n",
       "6  2024-01-05  2024-01-05"
      ]
     },
     "execution_count": 14,
     "metadata": {},
     "output_type": "execute_result"
    }
   ],
   "source": [
    "# === Parse & validate dates ===\n",
    "df[\"Date_parsed\"] = pd.to_datetime(df[\"Date\"], errors=\"coerce\")\n",
    "before = len(df)\n",
    "df = df[df[\"Date_parsed\"].notna()].copy()\n",
    "after = len(df)\n",
    "print(f\"Dropped {before - after} rows with invalid dates.\")\n",
    "df[[\"Date\",\"Date_parsed\"]].head()"
   ]
  },
  {
   "cell_type": "markdown",
   "id": "2c27d9e3",
   "metadata": {},
   "source": [
    "## 5) Normalize numeric values\n",
    "\n",
    "- Replace comma decimals with dots (`20,3` → `20.3`)\n",
    "- Strip spaces\n",
    "- Convert to numeric\n",
    "- Impute missing with **median**\n"
   ]
  },
  {
   "cell_type": "code",
   "execution_count": 15,
   "id": "3ac220af",
   "metadata": {},
   "outputs": [
    {
     "data": {
      "text/html": [
       "<div>\n",
       "<style scoped>\n",
       "    .dataframe tbody tr th:only-of-type {\n",
       "        vertical-align: middle;\n",
       "    }\n",
       "\n",
       "    .dataframe tbody tr th {\n",
       "        vertical-align: top;\n",
       "    }\n",
       "\n",
       "    .dataframe thead th {\n",
       "        text-align: right;\n",
       "    }\n",
       "</style>\n",
       "<table border=\"1\" class=\"dataframe\">\n",
       "  <thead>\n",
       "    <tr style=\"text-align: right;\">\n",
       "      <th></th>\n",
       "      <th>Rainfall(mm)</th>\n",
       "      <th>Rainfall_norm</th>\n",
       "    </tr>\n",
       "  </thead>\n",
       "  <tbody>\n",
       "    <tr>\n",
       "      <th>0</th>\n",
       "      <td>12.5</td>\n",
       "      <td>12.5</td>\n",
       "    </tr>\n",
       "    <tr>\n",
       "      <th>4</th>\n",
       "      <td>20,3</td>\n",
       "      <td>20.3</td>\n",
       "    </tr>\n",
       "    <tr>\n",
       "      <th>6</th>\n",
       "      <td>20,3</td>\n",
       "      <td>20.3</td>\n",
       "    </tr>\n",
       "  </tbody>\n",
       "</table>\n",
       "</div>"
      ],
      "text/plain": [
       "  Rainfall(mm)  Rainfall_norm\n",
       "0         12.5           12.5\n",
       "4         20,3           20.3\n",
       "6         20,3           20.3"
      ]
     },
     "execution_count": 15,
     "metadata": {},
     "output_type": "execute_result"
    }
   ],
   "source": [
    "# === Normalize Rainfall(mm) ===\n",
    "df[\"Rainfall_norm\"] = (\n",
    "    df[\"Rainfall(mm)\"]\n",
    "    .astype(str)\n",
    "    .str.replace(\",\", \".\", regex=False)\n",
    "    .str.replace(\" \", \"\", regex=False)\n",
    ")\n",
    "df[\"Rainfall_norm\"] = pd.to_numeric(df[\"Rainfall_norm\"], errors=\"coerce\")\n",
    "median_rain = df[\"Rainfall_norm\"].median(skipna=True)\n",
    "df[\"Rainfall_norm\"] = df[\"Rainfall_norm\"].fillna(median_rain)\n",
    "\n",
    "df[[\"Rainfall(mm)\", \"Rainfall_norm\"]].head()"
   ]
  },
  {
   "cell_type": "markdown",
   "id": "628e06c4",
   "metadata": {},
   "source": [
    "## 6) Remove duplicates & keep relevant columns\n",
    "\n",
    "We deduplicate by `Date_parsed + Region`, keep tidy columns, and sort rows.\n"
   ]
  },
  {
   "cell_type": "code",
   "execution_count": 16,
   "id": "feaf7d93",
   "metadata": {},
   "outputs": [
    {
     "data": {
      "text/html": [
       "<div>\n",
       "<style scoped>\n",
       "    .dataframe tbody tr th:only-of-type {\n",
       "        vertical-align: middle;\n",
       "    }\n",
       "\n",
       "    .dataframe tbody tr th {\n",
       "        vertical-align: top;\n",
       "    }\n",
       "\n",
       "    .dataframe thead th {\n",
       "        text-align: right;\n",
       "    }\n",
       "</style>\n",
       "<table border=\"1\" class=\"dataframe\">\n",
       "  <thead>\n",
       "    <tr style=\"text-align: right;\">\n",
       "      <th></th>\n",
       "      <th>Date</th>\n",
       "      <th>Region</th>\n",
       "      <th>Rainfall(mm)</th>\n",
       "    </tr>\n",
       "  </thead>\n",
       "  <tbody>\n",
       "    <tr>\n",
       "      <th>0</th>\n",
       "      <td>2024-01-01</td>\n",
       "      <td>North</td>\n",
       "      <td>12.5</td>\n",
       "    </tr>\n",
       "    <tr>\n",
       "      <th>1</th>\n",
       "      <td>2024-01-05</td>\n",
       "      <td>North</td>\n",
       "      <td>20.3</td>\n",
       "    </tr>\n",
       "  </tbody>\n",
       "</table>\n",
       "</div>"
      ],
      "text/plain": [
       "        Date Region  Rainfall(mm)\n",
       "0 2024-01-01  North          12.5\n",
       "1 2024-01-05  North          20.3"
      ]
     },
     "execution_count": 16,
     "metadata": {},
     "output_type": "execute_result"
    }
   ],
   "source": [
    "# === De-duplicate & tidy columns ===\n",
    "df = df.drop_duplicates(subset=[\"Date_parsed\", \"Region\"])\n",
    "\n",
    "clean = df.loc[:, [\"Date_parsed\", \"Region\", \"Rainfall_norm\"]].rename(\n",
    "    columns={\"Date_parsed\": \"Date\", \"Rainfall_norm\": \"Rainfall(mm)\"}\n",
    ")\n",
    "clean = clean.sort_values([\"Date\", \"Region\"]).reset_index(drop=True)\n",
    "clean.head()"
   ]
  },
  {
   "cell_type": "markdown",
   "id": "8e321d7a",
   "metadata": {},
   "source": [
    "## 7) Save cleaned outputs\n",
    "\n",
    "- `results/cleaned_rainfall.csv`\n",
    "- `results/summary.txt`\n",
    "- `results/quick_plot.png` (sanity line plot by region)\n"
   ]
  },
  {
   "cell_type": "code",
   "execution_count": 17,
   "id": "44513701",
   "metadata": {},
   "outputs": [
    {
     "name": "stdout",
     "output_type": "stream",
     "text": [
      "✅ Cleaned CSV: D:\\DS Projects\\pandas-data-cleaning-project\\results\\cleaned_rainfall.csv\n",
      "📝 Summary: D:\\DS Projects\\pandas-data-cleaning-project\\results\\summary.txt\n",
      "📈 Plot: D:\\DS Projects\\pandas-data-cleaning-project\\results\\quick_plot.png\n"
     ]
    }
   ],
   "source": [
    "# === Save cleaned outputs ===\n",
    "clean_path = RESULTS_DIR / \"cleaned_rainfall.csv\"\n",
    "clean.to_csv(clean_path, index=False)\n",
    "\n",
    "summary_txt = clean.describe(include=\"all\").to_string()\n",
    "(RESULTS_DIR / \"summary.txt\").write_text(summary_txt, encoding=\"utf-8\")\n",
    "\n",
    "# Quick plot\n",
    "plt.figure(figsize=(7,4))\n",
    "for region, sub in clean.groupby(\"Region\"):\n",
    "    plt.plot(sub[\"Date\"], sub[\"Rainfall(mm)\"], marker=\"o\", label=region)\n",
    "plt.title(\"Rainfall Over Time (cleaned)\")\n",
    "plt.xlabel(\"Date\")\n",
    "plt.ylabel(\"Rainfall (mm)\")\n",
    "plt.legend()\n",
    "plt.tight_layout()\n",
    "plot_path = RESULTS_DIR / \"quick_plot.png\"\n",
    "plt.savefig(plot_path, dpi=160)\n",
    "plt.close()\n",
    "\n",
    "print(\"✅ Cleaned CSV:\", clean_path)\n",
    "print(\"📝 Summary:\", RESULTS_DIR / 'summary.txt')\n",
    "print(\"📈 Plot:\", plot_path)"
   ]
  },
  {
   "cell_type": "markdown",
   "id": "01e816b4",
   "metadata": {},
   "source": [
    "## 8) What we covered (recap)\n",
    "\n",
    "- Created a **messy dataset** with common issues (dates, numbers, missing, duplicates, junk)\n",
    "- **Cleaned** text, dates, and numeric columns using pandas (built on NumPy)\n",
    "- **Imputed** missing numeric data (median)\n",
    "- **Deduplicated** rows and saved tidy outputs\n",
    "- Produced a quick **sanity plot**\n",
    "\n",
    "\n"
   ]
  }
 ],
 "metadata": {
  "kernelspec": {
   "display_name": "base",
   "language": "python",
   "name": "python3"
  },
  "language_info": {
   "codemirror_mode": {
    "name": "ipython",
    "version": 3
   },
   "file_extension": ".py",
   "mimetype": "text/x-python",
   "name": "python",
   "nbconvert_exporter": "python",
   "pygments_lexer": "ipython3",
   "version": "3.11.5"
  }
 },
 "nbformat": 4,
 "nbformat_minor": 5
}
